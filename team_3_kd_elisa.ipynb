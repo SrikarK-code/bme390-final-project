{
  "nbformat": 4,
  "nbformat_minor": 0,
  "metadata": {
    "colab": {
      "provenance": []
    },
    "kernelspec": {
      "name": "python3",
      "display_name": "Python 3"
    },
    "language_info": {
      "name": "python"
    }
  },
  "cells": [
    {
      "cell_type": "markdown",
      "source": [
        "# $K_{d}$ Analysis of ELISA Binding Data\n",
        "#### **Joe Laforet, Jr. and Pranam Chatterjee**\n",
        "#### BME305L - Duke University - Biomedical Engineering"
      ],
      "metadata": {
        "id": "s0V7BWKwhjab"
      }
    },
    {
      "cell_type": "markdown",
      "source": [
        "### Introduction:\n",
        " In order to determine the $K_{d}$ of your designed proteins, you will be performing an ELISA assay, where you will vary the concentration of your designed binder and measure the OD450 absorbance of your sample. Based upon a 4-parameter logistic regression, you will then map your OD values to the requisite input binder concentrations, and then obtain a $K_{d}$ value."
      ],
      "metadata": {
        "id": "_yAHo2RnwYXi"
      }
    },
    {
      "cell_type": "code",
      "execution_count": null,
      "metadata": {
        "id": "2GOHood1hgG8"
      },
      "outputs": [],
      "source": [
        "from scipy.optimize import curve_fit #This will do the actual curve fitting\n",
        "import numpy as np\n",
        "import matplotlib.pyplot as plt\n",
        "import pandas as pd\n",
        "import glob"
      ]
    },
    {
      "cell_type": "markdown",
      "source": [
        "### Input Data\n",
        "Use the provided, template CSV file to input your OD450 data as triplicates for input  concentrations of your binder."
      ],
      "metadata": {
        "id": "Pox0Lgv-iFOe"
      }
    },
    {
      "cell_type": "code",
      "source": [
        "data_file = glob.glob(\"*.csv\")[0]\n",
        "data_file"
      ],
      "metadata": {
        "id": "d2KrF7szWPci",
        "outputId": "f82f745f-d41e-4e79-873f-daf5e8d74967",
        "colab": {
          "base_uri": "https://localhost:8080/",
          "height": 35
        }
      },
      "execution_count": null,
      "outputs": [
        {
          "output_type": "execute_result",
          "data": {
            "text/plain": [
              "'binder3elisa.csv'"
            ],
            "application/vnd.google.colaboratory.intrinsic+json": {
              "type": "string"
            }
          },
          "metadata": {},
          "execution_count": 119
        }
      ]
    },
    {
      "cell_type": "code",
      "source": [
        "df = pd.read_csv(data_file)\n",
        "# Create a new column for the mean\n",
        "df['mean'] = df[['r1','r2']].mean(axis=1)\n",
        "\n",
        "# Create a new column for the standard deviation\n",
        "df['std_dev'] = df[['r1','r2']].std(axis=1)\n",
        "df"
      ],
      "metadata": {
        "colab": {
          "base_uri": "https://localhost:8080/",
          "height": 206
        },
        "id": "OgpQNmQRWbHT",
        "outputId": "217db9f0-5773-48ef-ef92-19f1cdab7214"
      },
      "execution_count": null,
      "outputs": [
        {
          "output_type": "execute_result",
          "data": {
            "text/plain": [
              "   Concentration (uM)     r1     r2    mean   std_dev\n",
              "0               0.001  0.020  0.027  0.0235  0.004950\n",
              "1               0.100  0.026  0.022  0.0240  0.002828\n",
              "2              10.000  0.030  0.028  0.0290  0.001414\n",
              "3            1000.000  0.030  0.038  0.0340  0.005657\n",
              "4           10000.000  0.034  0.034  0.0340  0.000000"
            ],
            "text/html": [
              "\n",
              "  <div id=\"df-e1a33421-3030-4166-b83a-ff568b4891ac\" class=\"colab-df-container\">\n",
              "    <div>\n",
              "<style scoped>\n",
              "    .dataframe tbody tr th:only-of-type {\n",
              "        vertical-align: middle;\n",
              "    }\n",
              "\n",
              "    .dataframe tbody tr th {\n",
              "        vertical-align: top;\n",
              "    }\n",
              "\n",
              "    .dataframe thead th {\n",
              "        text-align: right;\n",
              "    }\n",
              "</style>\n",
              "<table border=\"1\" class=\"dataframe\">\n",
              "  <thead>\n",
              "    <tr style=\"text-align: right;\">\n",
              "      <th></th>\n",
              "      <th>Concentration (uM)</th>\n",
              "      <th>r1</th>\n",
              "      <th>r2</th>\n",
              "      <th>mean</th>\n",
              "      <th>std_dev</th>\n",
              "    </tr>\n",
              "  </thead>\n",
              "  <tbody>\n",
              "    <tr>\n",
              "      <th>0</th>\n",
              "      <td>0.001</td>\n",
              "      <td>0.020</td>\n",
              "      <td>0.027</td>\n",
              "      <td>0.0235</td>\n",
              "      <td>0.004950</td>\n",
              "    </tr>\n",
              "    <tr>\n",
              "      <th>1</th>\n",
              "      <td>0.100</td>\n",
              "      <td>0.026</td>\n",
              "      <td>0.022</td>\n",
              "      <td>0.0240</td>\n",
              "      <td>0.002828</td>\n",
              "    </tr>\n",
              "    <tr>\n",
              "      <th>2</th>\n",
              "      <td>10.000</td>\n",
              "      <td>0.030</td>\n",
              "      <td>0.028</td>\n",
              "      <td>0.0290</td>\n",
              "      <td>0.001414</td>\n",
              "    </tr>\n",
              "    <tr>\n",
              "      <th>3</th>\n",
              "      <td>1000.000</td>\n",
              "      <td>0.030</td>\n",
              "      <td>0.038</td>\n",
              "      <td>0.0340</td>\n",
              "      <td>0.005657</td>\n",
              "    </tr>\n",
              "    <tr>\n",
              "      <th>4</th>\n",
              "      <td>10000.000</td>\n",
              "      <td>0.034</td>\n",
              "      <td>0.034</td>\n",
              "      <td>0.0340</td>\n",
              "      <td>0.000000</td>\n",
              "    </tr>\n",
              "  </tbody>\n",
              "</table>\n",
              "</div>\n",
              "    <div class=\"colab-df-buttons\">\n",
              "\n",
              "  <div class=\"colab-df-container\">\n",
              "    <button class=\"colab-df-convert\" onclick=\"convertToInteractive('df-e1a33421-3030-4166-b83a-ff568b4891ac')\"\n",
              "            title=\"Convert this dataframe to an interactive table.\"\n",
              "            style=\"display:none;\">\n",
              "\n",
              "  <svg xmlns=\"http://www.w3.org/2000/svg\" height=\"24px\" viewBox=\"0 -960 960 960\">\n",
              "    <path d=\"M120-120v-720h720v720H120Zm60-500h600v-160H180v160Zm220 220h160v-160H400v160Zm0 220h160v-160H400v160ZM180-400h160v-160H180v160Zm440 0h160v-160H620v160ZM180-180h160v-160H180v160Zm440 0h160v-160H620v160Z\"/>\n",
              "  </svg>\n",
              "    </button>\n",
              "\n",
              "  <style>\n",
              "    .colab-df-container {\n",
              "      display:flex;\n",
              "      gap: 12px;\n",
              "    }\n",
              "\n",
              "    .colab-df-convert {\n",
              "      background-color: #E8F0FE;\n",
              "      border: none;\n",
              "      border-radius: 50%;\n",
              "      cursor: pointer;\n",
              "      display: none;\n",
              "      fill: #1967D2;\n",
              "      height: 32px;\n",
              "      padding: 0 0 0 0;\n",
              "      width: 32px;\n",
              "    }\n",
              "\n",
              "    .colab-df-convert:hover {\n",
              "      background-color: #E2EBFA;\n",
              "      box-shadow: 0px 1px 2px rgba(60, 64, 67, 0.3), 0px 1px 3px 1px rgba(60, 64, 67, 0.15);\n",
              "      fill: #174EA6;\n",
              "    }\n",
              "\n",
              "    .colab-df-buttons div {\n",
              "      margin-bottom: 4px;\n",
              "    }\n",
              "\n",
              "    [theme=dark] .colab-df-convert {\n",
              "      background-color: #3B4455;\n",
              "      fill: #D2E3FC;\n",
              "    }\n",
              "\n",
              "    [theme=dark] .colab-df-convert:hover {\n",
              "      background-color: #434B5C;\n",
              "      box-shadow: 0px 1px 3px 1px rgba(0, 0, 0, 0.15);\n",
              "      filter: drop-shadow(0px 1px 2px rgba(0, 0, 0, 0.3));\n",
              "      fill: #FFFFFF;\n",
              "    }\n",
              "  </style>\n",
              "\n",
              "    <script>\n",
              "      const buttonEl =\n",
              "        document.querySelector('#df-e1a33421-3030-4166-b83a-ff568b4891ac button.colab-df-convert');\n",
              "      buttonEl.style.display =\n",
              "        google.colab.kernel.accessAllowed ? 'block' : 'none';\n",
              "\n",
              "      async function convertToInteractive(key) {\n",
              "        const element = document.querySelector('#df-e1a33421-3030-4166-b83a-ff568b4891ac');\n",
              "        const dataTable =\n",
              "          await google.colab.kernel.invokeFunction('convertToInteractive',\n",
              "                                                    [key], {});\n",
              "        if (!dataTable) return;\n",
              "\n",
              "        const docLinkHtml = 'Like what you see? Visit the ' +\n",
              "          '<a target=\"_blank\" href=https://colab.research.google.com/notebooks/data_table.ipynb>data table notebook</a>'\n",
              "          + ' to learn more about interactive tables.';\n",
              "        element.innerHTML = '';\n",
              "        dataTable['output_type'] = 'display_data';\n",
              "        await google.colab.output.renderOutput(dataTable, element);\n",
              "        const docLink = document.createElement('div');\n",
              "        docLink.innerHTML = docLinkHtml;\n",
              "        element.appendChild(docLink);\n",
              "      }\n",
              "    </script>\n",
              "  </div>\n",
              "\n",
              "\n",
              "<div id=\"df-840fd7b8-beb4-4552-bab8-3136c303aad2\">\n",
              "  <button class=\"colab-df-quickchart\" onclick=\"quickchart('df-840fd7b8-beb4-4552-bab8-3136c303aad2')\"\n",
              "            title=\"Suggest charts\"\n",
              "            style=\"display:none;\">\n",
              "\n",
              "<svg xmlns=\"http://www.w3.org/2000/svg\" height=\"24px\"viewBox=\"0 0 24 24\"\n",
              "     width=\"24px\">\n",
              "    <g>\n",
              "        <path d=\"M19 3H5c-1.1 0-2 .9-2 2v14c0 1.1.9 2 2 2h14c1.1 0 2-.9 2-2V5c0-1.1-.9-2-2-2zM9 17H7v-7h2v7zm4 0h-2V7h2v10zm4 0h-2v-4h2v4z\"/>\n",
              "    </g>\n",
              "</svg>\n",
              "  </button>\n",
              "\n",
              "<style>\n",
              "  .colab-df-quickchart {\n",
              "      --bg-color: #E8F0FE;\n",
              "      --fill-color: #1967D2;\n",
              "      --hover-bg-color: #E2EBFA;\n",
              "      --hover-fill-color: #174EA6;\n",
              "      --disabled-fill-color: #AAA;\n",
              "      --disabled-bg-color: #DDD;\n",
              "  }\n",
              "\n",
              "  [theme=dark] .colab-df-quickchart {\n",
              "      --bg-color: #3B4455;\n",
              "      --fill-color: #D2E3FC;\n",
              "      --hover-bg-color: #434B5C;\n",
              "      --hover-fill-color: #FFFFFF;\n",
              "      --disabled-bg-color: #3B4455;\n",
              "      --disabled-fill-color: #666;\n",
              "  }\n",
              "\n",
              "  .colab-df-quickchart {\n",
              "    background-color: var(--bg-color);\n",
              "    border: none;\n",
              "    border-radius: 50%;\n",
              "    cursor: pointer;\n",
              "    display: none;\n",
              "    fill: var(--fill-color);\n",
              "    height: 32px;\n",
              "    padding: 0;\n",
              "    width: 32px;\n",
              "  }\n",
              "\n",
              "  .colab-df-quickchart:hover {\n",
              "    background-color: var(--hover-bg-color);\n",
              "    box-shadow: 0 1px 2px rgba(60, 64, 67, 0.3), 0 1px 3px 1px rgba(60, 64, 67, 0.15);\n",
              "    fill: var(--button-hover-fill-color);\n",
              "  }\n",
              "\n",
              "  .colab-df-quickchart-complete:disabled,\n",
              "  .colab-df-quickchart-complete:disabled:hover {\n",
              "    background-color: var(--disabled-bg-color);\n",
              "    fill: var(--disabled-fill-color);\n",
              "    box-shadow: none;\n",
              "  }\n",
              "\n",
              "  .colab-df-spinner {\n",
              "    border: 2px solid var(--fill-color);\n",
              "    border-color: transparent;\n",
              "    border-bottom-color: var(--fill-color);\n",
              "    animation:\n",
              "      spin 1s steps(1) infinite;\n",
              "  }\n",
              "\n",
              "  @keyframes spin {\n",
              "    0% {\n",
              "      border-color: transparent;\n",
              "      border-bottom-color: var(--fill-color);\n",
              "      border-left-color: var(--fill-color);\n",
              "    }\n",
              "    20% {\n",
              "      border-color: transparent;\n",
              "      border-left-color: var(--fill-color);\n",
              "      border-top-color: var(--fill-color);\n",
              "    }\n",
              "    30% {\n",
              "      border-color: transparent;\n",
              "      border-left-color: var(--fill-color);\n",
              "      border-top-color: var(--fill-color);\n",
              "      border-right-color: var(--fill-color);\n",
              "    }\n",
              "    40% {\n",
              "      border-color: transparent;\n",
              "      border-right-color: var(--fill-color);\n",
              "      border-top-color: var(--fill-color);\n",
              "    }\n",
              "    60% {\n",
              "      border-color: transparent;\n",
              "      border-right-color: var(--fill-color);\n",
              "    }\n",
              "    80% {\n",
              "      border-color: transparent;\n",
              "      border-right-color: var(--fill-color);\n",
              "      border-bottom-color: var(--fill-color);\n",
              "    }\n",
              "    90% {\n",
              "      border-color: transparent;\n",
              "      border-bottom-color: var(--fill-color);\n",
              "    }\n",
              "  }\n",
              "</style>\n",
              "\n",
              "  <script>\n",
              "    async function quickchart(key) {\n",
              "      const quickchartButtonEl =\n",
              "        document.querySelector('#' + key + ' button');\n",
              "      quickchartButtonEl.disabled = true;  // To prevent multiple clicks.\n",
              "      quickchartButtonEl.classList.add('colab-df-spinner');\n",
              "      try {\n",
              "        const charts = await google.colab.kernel.invokeFunction(\n",
              "            'suggestCharts', [key], {});\n",
              "      } catch (error) {\n",
              "        console.error('Error during call to suggestCharts:', error);\n",
              "      }\n",
              "      quickchartButtonEl.classList.remove('colab-df-spinner');\n",
              "      quickchartButtonEl.classList.add('colab-df-quickchart-complete');\n",
              "    }\n",
              "    (() => {\n",
              "      let quickchartButtonEl =\n",
              "        document.querySelector('#df-840fd7b8-beb4-4552-bab8-3136c303aad2 button');\n",
              "      quickchartButtonEl.style.display =\n",
              "        google.colab.kernel.accessAllowed ? 'block' : 'none';\n",
              "    })();\n",
              "  </script>\n",
              "</div>\n",
              "\n",
              "  <div id=\"id_6aecb1d1-92e0-4561-a92d-8457a9f28bf4\">\n",
              "    <style>\n",
              "      .colab-df-generate {\n",
              "        background-color: #E8F0FE;\n",
              "        border: none;\n",
              "        border-radius: 50%;\n",
              "        cursor: pointer;\n",
              "        display: none;\n",
              "        fill: #1967D2;\n",
              "        height: 32px;\n",
              "        padding: 0 0 0 0;\n",
              "        width: 32px;\n",
              "      }\n",
              "\n",
              "      .colab-df-generate:hover {\n",
              "        background-color: #E2EBFA;\n",
              "        box-shadow: 0px 1px 2px rgba(60, 64, 67, 0.3), 0px 1px 3px 1px rgba(60, 64, 67, 0.15);\n",
              "        fill: #174EA6;\n",
              "      }\n",
              "\n",
              "      [theme=dark] .colab-df-generate {\n",
              "        background-color: #3B4455;\n",
              "        fill: #D2E3FC;\n",
              "      }\n",
              "\n",
              "      [theme=dark] .colab-df-generate:hover {\n",
              "        background-color: #434B5C;\n",
              "        box-shadow: 0px 1px 3px 1px rgba(0, 0, 0, 0.15);\n",
              "        filter: drop-shadow(0px 1px 2px rgba(0, 0, 0, 0.3));\n",
              "        fill: #FFFFFF;\n",
              "      }\n",
              "    </style>\n",
              "    <button class=\"colab-df-generate\" onclick=\"generateWithVariable('df')\"\n",
              "            title=\"Generate code using this dataframe.\"\n",
              "            style=\"display:none;\">\n",
              "\n",
              "  <svg xmlns=\"http://www.w3.org/2000/svg\" height=\"24px\"viewBox=\"0 0 24 24\"\n",
              "       width=\"24px\">\n",
              "    <path d=\"M7,19H8.4L18.45,9,17,7.55,7,17.6ZM5,21V16.75L18.45,3.32a2,2,0,0,1,2.83,0l1.4,1.43a1.91,1.91,0,0,1,.58,1.4,1.91,1.91,0,0,1-.58,1.4L9.25,21ZM18.45,9,17,7.55Zm-12,3A5.31,5.31,0,0,0,4.9,8.1,5.31,5.31,0,0,0,1,6.5,5.31,5.31,0,0,0,4.9,4.9,5.31,5.31,0,0,0,6.5,1,5.31,5.31,0,0,0,8.1,4.9,5.31,5.31,0,0,0,12,6.5,5.46,5.46,0,0,0,6.5,12Z\"/>\n",
              "  </svg>\n",
              "    </button>\n",
              "    <script>\n",
              "      (() => {\n",
              "      const buttonEl =\n",
              "        document.querySelector('#id_6aecb1d1-92e0-4561-a92d-8457a9f28bf4 button.colab-df-generate');\n",
              "      buttonEl.style.display =\n",
              "        google.colab.kernel.accessAllowed ? 'block' : 'none';\n",
              "\n",
              "      buttonEl.onclick = () => {\n",
              "        google.colab.notebook.generateWithVariable('df');\n",
              "      }\n",
              "      })();\n",
              "    </script>\n",
              "  </div>\n",
              "\n",
              "    </div>\n",
              "  </div>\n"
            ]
          },
          "metadata": {},
          "execution_count": 120
        }
      ]
    },
    {
      "cell_type": "markdown",
      "source": [
        "We will then calculate the mean OD450 and standard deviation for each measured concentration."
      ],
      "metadata": {
        "id": "ZIa8dZxlk5VL"
      }
    },
    {
      "cell_type": "code",
      "source": [
        "# Average OD450 for each binder given concentration\n",
        "y = df['mean']\n",
        "y_err = df['std_dev']\n",
        "# Concentrations of binder\n",
        "x = df['Concentration (uM)'].tolist()"
      ],
      "metadata": {
        "id": "AwUhta_Ah6Lt"
      },
      "execution_count": null,
      "outputs": []
    },
    {
      "cell_type": "code",
      "source": [
        "#Raw Data Plot\n",
        "plt.scatter(x,y)\n",
        "plt.xlabel('log(Concentration (uM))')\n",
        "plt.xscale('log')\n",
        "plt.ylabel('Absorbance at 450 nm')\n",
        "plt.grid(True)"
      ],
      "metadata": {
        "colab": {
          "base_uri": "https://localhost:8080/",
          "height": 454
        },
        "id": "cOPZuKrCiHF0",
        "outputId": "1cc30ffc-a4af-403c-fbbc-11ae43a54138"
      },
      "execution_count": null,
      "outputs": [
        {
          "output_type": "display_data",
          "data": {
            "text/plain": [
              "<Figure size 640x480 with 1 Axes>"
            ],
            "image/png": "[encoded data removed]"
          },
          "metadata": {}
        }
      ]
    },
    {
      "cell_type": "code",
      "source": [
        "# Set up our continuous array of x values for plotting our model\n",
        "x_min = min(x)\n",
        "x_max = max(x)\n",
        "step = 0.01\n",
        "x_new = np.arange(x_min, x_max, step)"
      ],
      "metadata": {
        "id": "GH6yTQXQiLe2"
      },
      "execution_count": null,
      "outputs": []
    },
    {
      "cell_type": "markdown",
      "source": [
        "## We will use a 4 parameter logistic regression model to fit our data.\n",
        "\n",
        "* A: The minimum value of OD (at lowest concentration)\n",
        "* B: The slope of the curve at the point of C (Hill's slope)\n",
        "* C: The inflection point, half-way between A and D\n",
        "* D: The maximum value of OD450 (at infinite concentration)"
      ],
      "metadata": {
        "id": "9GhpdcYyuP5e"
      }
    },
    {
      "cell_type": "code",
      "source": [
        "def log4pl(x, A, B, C, D):\n",
        "    return(((A-D)/(1.0+((x/C)**B))) + D)"
      ],
      "metadata": {
        "id": "pqzSZgPNuKMH"
      },
      "execution_count": null,
      "outputs": []
    },
    {
      "cell_type": "code",
      "source": [
        "params, _ = curve_fit(log4pl, x, y) #curve fit\n",
        "A,B,C,D = params[0], params[1], params[2], params[3] #get the parameters\n",
        "print(\"4PL parameters: A = \" + str(round(A,4)) + \", B = \" + str(round(B,4)) + \", C = \" + str(round(C,4)) + \", D = \" + str(round(D,4))) #print the paramters"
      ],
      "metadata": {
        "colab": {
          "base_uri": "https://localhost:8080/"
        },
        "id": "lHHAiOAmu7Qj",
        "outputId": "57e5ddae-c5d7-417d-ab4e-369d1e554500"
      },
      "execution_count": null,
      "outputs": [
        {
          "output_type": "stream",
          "name": "stdout",
          "text": [
            "4PL parameters: A = 0.0236, B = 0.7545, C = 9.2692, D = 0.0342\n"
          ]
        }
      ]
    },
    {
      "cell_type": "code",
      "source": [
        "# Evaluate the model at the input concentration values\n",
        "yfit1_new = ((A-D)/(1.0+((x_new/C)**B))) + D"
      ],
      "metadata": {
        "id": "VHsXpUFzu7Iz"
      },
      "execution_count": null,
      "outputs": []
    },
    {
      "cell_type": "code",
      "source": [
        "# Plot the 4PL Model with the Measured Data\n",
        "\n",
        "plt.errorbar(x, y, yerr=y_err, fmt='r+')\n",
        "plt.plot(x, y, 'r+', label=\"Measured Data\")\n",
        "plt.plot(x_new, yfit1_new, label=\"Fit 4PL Model\")\n",
        "plt.xlabel('Concentration (uM)')\n",
        "plt.ylabel('Absorbance at 450 nm')\n",
        "plt.xscale(\"log\")\n",
        "plt.legend(loc='best', fancybox=True, shadow=True)\n",
        "plt.grid(True)\n",
        "plt.show()"
      ],
      "metadata": {
        "colab": {
          "base_uri": "https://localhost:8080/",
          "height": 454
        },
        "id": "6qZDpY9bu7A_",
        "outputId": "1774a7d9-d517-48c0-e424-3515506bd372"
      },
      "execution_count": null,
      "outputs": [
        {
          "output_type": "display_data",
          "data": {
            "text/plain": [
              "<Figure size 640x480 with 1 Axes>"
            ],
            "image/png": "[encoded data removed]"
          },
          "metadata": {}
        }
      ]
    },
    {
      "cell_type": "markdown",
      "source": [
        "Here, you can measure how good your model fits your data. Values within the range 70% - 130% of the original value are generally okay for ELISA measurements."
      ],
      "metadata": {
        "id": "xhVOHyu_lX_o"
      }
    },
    {
      "cell_type": "code",
      "source": [
        "yfit1_recovery = ((A-D)/(1.0+((x/C)**B))) + D\n",
        "(yfit1_recovery/y) * 100"
      ],
      "metadata": {
        "colab": {
          "base_uri": "https://localhost:8080/"
        },
        "id": "4rPx-c-9vQai",
        "outputId": "086e5619-be06-4e61-d50f-e652b29600fb"
      },
      "execution_count": null,
      "outputs": [
        {
          "output_type": "execute_result",
          "data": {
            "text/plain": [
              "0    100.347030\n",
              "1     99.614633\n",
              "2    100.079240\n",
              "3     99.619025\n",
              "4    100.345552\n",
              "Name: mean, dtype: float64"
            ]
          },
          "metadata": {},
          "execution_count": 128
        }
      ]
    },
    {
      "cell_type": "markdown",
      "source": [
        "Finally, the $K_{d}$ is the concentration at which $K_{max}$ is at 50%."
      ],
      "metadata": {
        "id": "I_DbuSYRh9yn"
      }
    },
    {
      "cell_type": "code",
      "source": [
        "half_kmax = (A+D)/2\n",
        "y_half = np.abs(yfit1_new - half_kmax).argmin()\n",
        "k_d = x_new[y_half]\n",
        "print(f\"K_d = {k_d:0.4} uM.\")"
      ],
      "metadata": {
        "colab": {
          "base_uri": "https://localhost:8080/"
        },
        "id": "3xAmXLTpvXj7",
        "outputId": "6d56b794-f3d5-49d6-888c-0a95f4c212c9"
      },
      "execution_count": null,
      "outputs": [
        {
          "output_type": "stream",
          "name": "stdout",
          "text": [
            "K_d = 9.271 uM.\n"
          ]
        }
      ]
    },
    {
      "cell_type": "markdown",
      "source": [
        "### Reference\n",
        "Davis, et al. [Principles of Curve Fitting for Multiplex Sandwich Immunoassays.](https://geiselmed.dartmouth.edu/dartlab/wp-content/uploads/sites/22/2017/05/Bio-RadTechNote2861_principles_of_curve_fitting.pdf) (2023)"
      ],
      "metadata": {
        "id": "mJHgeFwJ3AKM"
      }
    },
    {
      "cell_type": "code",
      "source": [
        "# Plot the 4PL Model with the Measured Data\n",
        "plt.errorbar(x, y, yerr=y_err, fmt='r+')\n",
        "plt.plot(x, y, 'r+', label=\"Measured Data\")\n",
        "plt.plot(x_new, yfit1_new, label=\"Fit 4PL Model\")\n",
        "plt.xlabel('Concentration (uM)')\n",
        "plt.ylabel('Absorbance at 450 nm')\n",
        "plt.xscale(\"log\")\n",
        "plt.legend(loc='best', fancybox=True, shadow=True)\n",
        "plt.grid(True)\n",
        "\n",
        "# Display the k_d value in the lower right corner\n",
        "kd_x_position = max(x) * 2.1 # 70% along the x-axis\n",
        "kd_y_position = min(y) * 0.76  # Slightly above the minimum y value\n",
        "plt.text(kd_x_position, kd_y_position, f\"K_d = {k_d:0.4} uM\", fontsize=12, ha='right')\n",
        "\n",
        "plt.show()"
      ],
      "metadata": {
        "colab": {
          "base_uri": "https://localhost:8080/",
          "height": 454
        },
        "id": "V6xgKlIEh0Di",
        "outputId": "ac6ee2bd-09cb-43ed-d589-a8491f068634"
      },
      "execution_count": null,
      "outputs": [
        {
          "output_type": "display_data",
          "data": {
            "text/plain": [
              "<Figure size 640x480 with 1 Axes>"
            ],
            "image/png": "[encoded data removed]"
          },
          "metadata": {}
        }
      ]
    },
    {
      "cell_type": "code",
      "source": [],
      "metadata": {
        "id": "wjm6u5PViZiH"
      },
      "execution_count": null,
      "outputs": []
    }
  ]
}